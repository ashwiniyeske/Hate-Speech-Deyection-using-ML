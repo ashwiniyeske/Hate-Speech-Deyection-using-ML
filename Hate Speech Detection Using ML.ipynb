{
 "cells": [
  {
   "cell_type": "code",
   "execution_count": 1,
   "id": "e689bbac",
   "metadata": {
    "_cell_guid": "b1076dfc-b9ad-4769-8c92-a6c4dae69d19",
    "_uuid": "8f2839f25d086af736a60e9eeb907d3b93b6e0e5",
    "execution": {
     "iopub.execute_input": "2023-09-01T06:59:41.551094Z",
     "iopub.status.busy": "2023-09-01T06:59:41.550306Z",
     "iopub.status.idle": "2023-09-01T06:59:42.443787Z",
     "shell.execute_reply": "2023-09-01T06:59:42.442692Z"
    },
    "papermill": {
     "duration": 0.908391,
     "end_time": "2023-09-01T06:59:42.446845",
     "exception": false,
     "start_time": "2023-09-01T06:59:41.538454",
     "status": "completed"
    },
    "tags": []
   },
   "outputs": [],
   "source": [
    "# This Python 3 environment comes with many helpful analytics libraries installed\n",
    "# It is defined by the kaggle/python Docker image: https://github.com/kaggle/docker-python\n",
    "# For example, here's several helpful packages to load\n",
    "\n",
    "import numpy as np # linear algebra\n",
    "import pandas as pd # data processing, CSV file I/O (e.g. pd.read_csv)\n",
    "\n",
    "# Input data files are available in the read-only \"../input/\" directory\n",
    "# For example, running this (by clicking run or pressing Shift+Enter) will list all files under the input directory\n",
    "\n",
    "import os\n",
    "for dirname, _, filenames in os.walk('/kaggle/input'):\n",
    "    for filename in filenames:\n",
    "        print(os.path.join(dirname, filename))\n",
    "\n",
    "# You can write up to 20GB to the current directory (/kaggle/working/) that gets preserved as output when you create a version using \"Save & Run All\" \n",
    "# You can also write temporary files to /kaggle/temp/, but they won't be saved outside of the current session"
   ]
  },
  {
   "cell_type": "code",
   "execution_count": 2,
   "id": "36899859",
   "metadata": {
    "execution": {
     "iopub.execute_input": "2023-09-01T06:59:42.468347Z",
     "iopub.status.busy": "2023-09-01T06:59:42.467360Z",
     "iopub.status.idle": "2023-09-01T06:59:44.908676Z",
     "shell.execute_reply": "2023-09-01T06:59:44.907635Z"
    },
    "papermill": {
     "duration": 2.45541,
     "end_time": "2023-09-01T06:59:44.911720",
     "exception": false,
     "start_time": "2023-09-01T06:59:42.456310",
     "status": "completed"
    },
    "tags": []
   },
   "outputs": [],
   "source": [
    "from nltk.util import pr\n",
    "import pandas as pd\n",
    "import numpy as np\n",
    "from sklearn.feature_extraction.text import CountVectorizer\n",
    "from sklearn.model_selection import train_test_split\n",
    "from sklearn.tree import DecisionTreeClassifier"
   ]
  },
  {
   "cell_type": "code",
   "execution_count": 3,
   "id": "6264a634",
   "metadata": {
    "execution": {
     "iopub.execute_input": "2023-09-01T06:59:44.931852Z",
     "iopub.status.busy": "2023-09-01T06:59:44.931410Z",
     "iopub.status.idle": "2023-09-01T06:59:45.194777Z",
     "shell.execute_reply": "2023-09-01T06:59:45.193525Z"
    },
    "papermill": {
     "duration": 0.276771,
     "end_time": "2023-09-01T06:59:45.197656",
     "exception": false,
     "start_time": "2023-09-01T06:59:44.920885",
     "status": "completed"
    },
    "tags": []
   },
   "outputs": [
    {
     "name": "stdout",
     "output_type": "stream",
     "text": [
      "   Unnamed: 0  count  hate_speech  offensive_language  neither  class  \\\n",
      "0           0      3            0                   0        3      2   \n",
      "1           1      3            0                   3        0      1   \n",
      "2           2      3            0                   3        0      1   \n",
      "3           3      3            0                   2        1      1   \n",
      "4           4      6            0                   6        0      1   \n",
      "\n",
      "                                               tweet  \n",
      "0  !!! RT @mayasolovely: As a woman you shouldn't...  \n",
      "1  !!!!! RT @mleew17: boy dats cold...tyga dwn ba...  \n",
      "2  !!!!!!! RT @UrKindOfBrand Dawg!!!! RT @80sbaby...  \n",
      "3  !!!!!!!!! RT @C_G_Anderson: @viva_based she lo...  \n",
      "4  !!!!!!!!!!!!! RT @ShenikaRoberts: The shit you...  \n"
     ]
    }
   ],
   "source": [
    "data = pd.read_csv(\"https://raw.githubusercontent.com/amankharwal/Website-data/master/twitter.csv\")\n",
    "print(data.head())"
   ]
  },
  {
   "cell_type": "code",
   "execution_count": 4,
   "id": "bd6ea672",
   "metadata": {
    "execution": {
     "iopub.execute_input": "2023-09-01T06:59:45.219010Z",
     "iopub.status.busy": "2023-09-01T06:59:45.218125Z",
     "iopub.status.idle": "2023-09-01T06:59:45.226760Z",
     "shell.execute_reply": "2023-09-01T06:59:45.225902Z"
    },
    "papermill": {
     "duration": 0.021898,
     "end_time": "2023-09-01T06:59:45.229112",
     "exception": false,
     "start_time": "2023-09-01T06:59:45.207214",
     "status": "completed"
    },
    "tags": []
   },
   "outputs": [
    {
     "data": {
      "text/plain": [
       "Index(['Unnamed: 0', 'count', 'hate_speech', 'offensive_language', 'neither',\n",
       "       'class', 'tweet'],\n",
       "      dtype='object')"
      ]
     },
     "execution_count": 4,
     "metadata": {},
     "output_type": "execute_result"
    }
   ],
   "source": [
    "data.columns"
   ]
  },
  {
   "cell_type": "code",
   "execution_count": 5,
   "id": "b62f4a6d",
   "metadata": {
    "execution": {
     "iopub.execute_input": "2023-09-01T06:59:45.250105Z",
     "iopub.status.busy": "2023-09-01T06:59:45.248935Z",
     "iopub.status.idle": "2023-09-01T06:59:45.283347Z",
     "shell.execute_reply": "2023-09-01T06:59:45.282535Z"
    },
    "papermill": {
     "duration": 0.047301,
     "end_time": "2023-09-01T06:59:45.285688",
     "exception": false,
     "start_time": "2023-09-01T06:59:45.238387",
     "status": "completed"
    },
    "tags": []
   },
   "outputs": [
    {
     "name": "stdout",
     "output_type": "stream",
     "text": [
      "<class 'pandas.core.frame.DataFrame'>\n",
      "RangeIndex: 24783 entries, 0 to 24782\n",
      "Data columns (total 7 columns):\n",
      " #   Column              Non-Null Count  Dtype \n",
      "---  ------              --------------  ----- \n",
      " 0   Unnamed: 0          24783 non-null  int64 \n",
      " 1   count               24783 non-null  int64 \n",
      " 2   hate_speech         24783 non-null  int64 \n",
      " 3   offensive_language  24783 non-null  int64 \n",
      " 4   neither             24783 non-null  int64 \n",
      " 5   class               24783 non-null  int64 \n",
      " 6   tweet               24783 non-null  object\n",
      "dtypes: int64(6), object(1)\n",
      "memory usage: 1.3+ MB\n"
     ]
    }
   ],
   "source": [
    "data.info()"
   ]
  },
  {
   "cell_type": "code",
   "execution_count": 6,
   "id": "4ad8a285",
   "metadata": {
    "execution": {
     "iopub.execute_input": "2023-09-01T06:59:45.307660Z",
     "iopub.status.busy": "2023-09-01T06:59:45.306450Z",
     "iopub.status.idle": "2023-09-01T06:59:45.525733Z",
     "shell.execute_reply": "2023-09-01T06:59:45.524586Z"
    },
    "papermill": {
     "duration": 0.233596,
     "end_time": "2023-09-01T06:59:45.528790",
     "exception": false,
     "start_time": "2023-09-01T06:59:45.295194",
     "status": "completed"
    },
    "tags": []
   },
   "outputs": [],
   "source": [
    "data.to_csv(\"twitter.csv\")"
   ]
  },
  {
   "cell_type": "code",
   "execution_count": 7,
   "id": "3e0cf0b7",
   "metadata": {
    "execution": {
     "iopub.execute_input": "2023-09-01T06:59:45.550304Z",
     "iopub.status.busy": "2023-09-01T06:59:45.549877Z",
     "iopub.status.idle": "2023-09-01T06:59:45.619266Z",
     "shell.execute_reply": "2023-09-01T06:59:45.617721Z"
    },
    "papermill": {
     "duration": 0.083123,
     "end_time": "2023-09-01T06:59:45.621913",
     "exception": false,
     "start_time": "2023-09-01T06:59:45.538790",
     "status": "completed"
    },
    "tags": []
   },
   "outputs": [
    {
     "name": "stdout",
     "output_type": "stream",
     "text": [
      "   Unnamed: 0.1  Unnamed: 0  count  hate_speech  offensive_language  neither  \\\n",
      "0             0           0      3            0                   0        3   \n",
      "1             1           1      3            0                   3        0   \n",
      "2             2           2      3            0                   3        0   \n",
      "3             3           3      3            0                   2        1   \n",
      "4             4           4      6            0                   6        0   \n",
      "\n",
      "   class                                              tweet  \n",
      "0      2  !!! RT @mayasolovely: As a woman you shouldn't...  \n",
      "1      1  !!!!! RT @mleew17: boy dats cold...tyga dwn ba...  \n",
      "2      1  !!!!!!! RT @UrKindOfBrand Dawg!!!! RT @80sbaby...  \n",
      "3      1  !!!!!!!!! RT @C_G_Anderson: @viva_based she lo...  \n",
      "4      1  !!!!!!!!!!!!! RT @ShenikaRoberts: The shit you...  \n"
     ]
    }
   ],
   "source": [
    "data = pd.read_csv(\"twitter.csv\")\n",
    "print(data.head())"
   ]
  },
  {
   "cell_type": "code",
   "execution_count": 8,
   "id": "b85e58f2",
   "metadata": {
    "execution": {
     "iopub.execute_input": "2023-09-01T06:59:45.643876Z",
     "iopub.status.busy": "2023-09-01T06:59:45.642714Z",
     "iopub.status.idle": "2023-09-01T06:59:45.654764Z",
     "shell.execute_reply": "2023-09-01T06:59:45.653588Z"
    },
    "papermill": {
     "duration": 0.026399,
     "end_time": "2023-09-01T06:59:45.657904",
     "exception": false,
     "start_time": "2023-09-01T06:59:45.631505",
     "status": "completed"
    },
    "tags": []
   },
   "outputs": [
    {
     "data": {
      "text/plain": [
       "array([2, 1, 0])"
      ]
     },
     "execution_count": 8,
     "metadata": {},
     "output_type": "execute_result"
    }
   ],
   "source": [
    "data['class'].unique()"
   ]
  },
  {
   "cell_type": "code",
   "execution_count": 9,
   "id": "d9c1cd0b",
   "metadata": {
    "execution": {
     "iopub.execute_input": "2023-09-01T06:59:45.679243Z",
     "iopub.status.busy": "2023-09-01T06:59:45.678817Z",
     "iopub.status.idle": "2023-09-01T06:59:45.693103Z",
     "shell.execute_reply": "2023-09-01T06:59:45.691580Z"
    },
    "papermill": {
     "duration": 0.02805,
     "end_time": "2023-09-01T06:59:45.695911",
     "exception": false,
     "start_time": "2023-09-01T06:59:45.667861",
     "status": "completed"
    },
    "tags": []
   },
   "outputs": [
    {
     "name": "stdout",
     "output_type": "stream",
     "text": [
      "   Unnamed: 0.1  Unnamed: 0  count  hate_speech  offensive_language  neither  \\\n",
      "0             0           0      3            0                   0        3   \n",
      "1             1           1      3            0                   3        0   \n",
      "2             2           2      3            0                   3        0   \n",
      "3             3           3      3            0                   2        1   \n",
      "4             4           4      6            0                   6        0   \n",
      "\n",
      "   class                                              tweet  \\\n",
      "0      2  !!! RT @mayasolovely: As a woman you shouldn't...   \n",
      "1      1  !!!!! RT @mleew17: boy dats cold...tyga dwn ba...   \n",
      "2      1  !!!!!!! RT @UrKindOfBrand Dawg!!!! RT @80sbaby...   \n",
      "3      1  !!!!!!!!! RT @C_G_Anderson: @viva_based she lo...   \n",
      "4      1  !!!!!!!!!!!!! RT @ShenikaRoberts: The shit you...   \n",
      "\n",
      "                  labels  \n",
      "0  No Hate and Offensive  \n",
      "1     Offensive Language  \n",
      "2     Offensive Language  \n",
      "3     Offensive Language  \n",
      "4     Offensive Language  \n"
     ]
    }
   ],
   "source": [
    "data[\"labels\"] = data[\"class\"].map({0:\"Hate Speech\",1:\"Offensive Language\",2:\"No Hate and Offensive\"})\n",
    "print(data.head())"
   ]
  },
  {
   "cell_type": "code",
   "execution_count": 10,
   "id": "7c25b300",
   "metadata": {
    "execution": {
     "iopub.execute_input": "2023-09-01T06:59:45.718264Z",
     "iopub.status.busy": "2023-09-01T06:59:45.717826Z",
     "iopub.status.idle": "2023-09-01T06:59:45.732650Z",
     "shell.execute_reply": "2023-09-01T06:59:45.731306Z"
    },
    "papermill": {
     "duration": 0.028732,
     "end_time": "2023-09-01T06:59:45.735070",
     "exception": false,
     "start_time": "2023-09-01T06:59:45.706338",
     "status": "completed"
    },
    "tags": []
   },
   "outputs": [
    {
     "name": "stdout",
     "output_type": "stream",
     "text": [
      "                                               tweet                 labels\n",
      "0  !!! RT @mayasolovely: As a woman you shouldn't...  No Hate and Offensive\n",
      "1  !!!!! RT @mleew17: boy dats cold...tyga dwn ba...     Offensive Language\n",
      "2  !!!!!!! RT @UrKindOfBrand Dawg!!!! RT @80sbaby...     Offensive Language\n",
      "3  !!!!!!!!! RT @C_G_Anderson: @viva_based she lo...     Offensive Language\n",
      "4  !!!!!!!!!!!!! RT @ShenikaRoberts: The shit you...     Offensive Language\n"
     ]
    }
   ],
   "source": [
    "data = data[[\"tweet\",\"labels\"]]\n",
    "print(data.head())"
   ]
  },
  {
   "cell_type": "markdown",
   "id": "27f1f6db",
   "metadata": {
    "papermill": {
     "duration": 0.009683,
     "end_time": "2023-09-01T06:59:45.754763",
     "exception": false,
     "start_time": "2023-09-01T06:59:45.745080",
     "status": "completed"
    },
    "tags": []
   },
   "source": [
    "#text processing will start"
   ]
  },
  {
   "cell_type": "code",
   "execution_count": 11,
   "id": "a5b43730",
   "metadata": {
    "execution": {
     "iopub.execute_input": "2023-09-01T06:59:45.776004Z",
     "iopub.status.busy": "2023-09-01T06:59:45.775545Z",
     "iopub.status.idle": "2023-09-01T06:59:45.887588Z",
     "shell.execute_reply": "2023-09-01T06:59:45.886709Z"
    },
    "papermill": {
     "duration": 0.125683,
     "end_time": "2023-09-01T06:59:45.890255",
     "exception": false,
     "start_time": "2023-09-01T06:59:45.764572",
     "status": "completed"
    },
    "tags": []
   },
   "outputs": [
    {
     "name": "stdout",
     "output_type": "stream",
     "text": [
      "[nltk_data] Downloading package stopwords to /usr/share/nltk_data...\n",
      "[nltk_data]   Package stopwords is already up-to-date!\n"
     ]
    }
   ],
   "source": [
    "import re\n",
    "import nltk\n",
    "#nltk download\n",
    "nltk.download('stopwords')\n",
    "stemmer = nltk.SnowballStemmer(\"english\")\n",
    "from nltk.corpus import stopwords\n",
    "import string\n",
    "stopword=set(stopwords.words('english'))"
   ]
  },
  {
   "cell_type": "code",
   "execution_count": 12,
   "id": "6421766c",
   "metadata": {
    "execution": {
     "iopub.execute_input": "2023-09-01T06:59:45.912880Z",
     "iopub.status.busy": "2023-09-01T06:59:45.912420Z",
     "iopub.status.idle": "2023-09-01T06:59:51.384874Z",
     "shell.execute_reply": "2023-09-01T06:59:51.383520Z"
    },
    "papermill": {
     "duration": 5.486269,
     "end_time": "2023-09-01T06:59:51.387264",
     "exception": false,
     "start_time": "2023-09-01T06:59:45.900995",
     "status": "completed"
    },
    "tags": []
   },
   "outputs": [
    {
     "name": "stdout",
     "output_type": "stream",
     "text": [
      "                                               tweet                 labels\n",
      "0   rt mayasolov woman shouldnt complain clean ho...  No Hate and Offensive\n",
      "1   rt  boy dat coldtyga dwn bad cuffin dat hoe  ...     Offensive Language\n",
      "2   rt urkindofbrand dawg rt  ever fuck bitch sta...     Offensive Language\n",
      "3             rt cganderson vivabas look like tranni     Offensive Language\n",
      "4   rt shenikarobert shit hear might true might f...     Offensive Language\n"
     ]
    }
   ],
   "source": [
    "def clean(text):\n",
    "    text = str(text).lower()\n",
    "    text = re.sub('\\[.*?\\]', '', text)\n",
    "    text = re.sub('https?://\\S+|www\\.\\S+', '', text)\n",
    "    text = re.sub('<.*?>+', '', text)\n",
    "    text = re.sub('[%s]' % re.escape(string.punctuation), '', text)\n",
    "    text = re.sub('\\n', '', text)\n",
    "    text = re.sub('\\w*\\d\\w*', '', text)\n",
    "    text = [word for word in text.split(' ') if word not in stopword]\n",
    "    text=\" \".join(text)\n",
    "    text = [stemmer.stem(word) for word in text.split(' ')]\n",
    "    text=\" \".join(text)\n",
    "    return text\n",
    "data[\"tweet\"] = data[\"tweet\"].apply(clean)\n",
    "print(data.head())\n",
    "    \n"
   ]
  },
  {
   "cell_type": "markdown",
   "id": "0ca342c8",
   "metadata": {
    "papermill": {
     "duration": 0.009772,
     "end_time": "2023-09-01T06:59:51.407403",
     "exception": false,
     "start_time": "2023-09-01T06:59:51.397631",
     "status": "completed"
    },
    "tags": []
   },
   "source": [
    "#prepare data for model training\n",
    "1. seperate feature and label\n",
    "2. transform words to vector\n",
    "2. splitting data into training and testing data"
   ]
  },
  {
   "cell_type": "code",
   "execution_count": 13,
   "id": "e54c73e5",
   "metadata": {
    "execution": {
     "iopub.execute_input": "2023-09-01T06:59:51.429400Z",
     "iopub.status.busy": "2023-09-01T06:59:51.428972Z",
     "iopub.status.idle": "2023-09-01T06:59:51.905850Z",
     "shell.execute_reply": "2023-09-01T06:59:51.904801Z"
    },
    "papermill": {
     "duration": 0.491237,
     "end_time": "2023-09-01T06:59:51.908626",
     "exception": false,
     "start_time": "2023-09-01T06:59:51.417389",
     "status": "completed"
    },
    "tags": []
   },
   "outputs": [],
   "source": [
    "x = np.array(data[\"tweet\"])\n",
    "y = np.array(data[\"labels\"])\n",
    "\n",
    "cv = CountVectorizer()\n",
    "X = cv.fit_transform(x)#Fit the Data\n",
    "X_train,X_test,y_train,y_test = train_test_split(X,y,test_size=0.33,random_state=42)\n"
   ]
  },
  {
   "cell_type": "markdown",
   "id": "068f5a84",
   "metadata": {
    "papermill": {
     "duration": 0.009732,
     "end_time": "2023-09-01T06:59:51.929286",
     "exception": false,
     "start_time": "2023-09-01T06:59:51.919554",
     "status": "completed"
    },
    "tags": []
   },
   "source": [
    "#selection-desicion tree"
   ]
  },
  {
   "cell_type": "code",
   "execution_count": 14,
   "id": "bd78e6d3",
   "metadata": {
    "execution": {
     "iopub.execute_input": "2023-09-01T06:59:51.951699Z",
     "iopub.status.busy": "2023-09-01T06:59:51.950566Z",
     "iopub.status.idle": "2023-09-01T06:59:55.049844Z",
     "shell.execute_reply": "2023-09-01T06:59:55.048812Z"
    },
    "papermill": {
     "duration": 3.113121,
     "end_time": "2023-09-01T06:59:55.052352",
     "exception": false,
     "start_time": "2023-09-01T06:59:51.939231",
     "status": "completed"
    },
    "tags": []
   },
   "outputs": [
    {
     "data": {
      "text/plain": [
       "0.8792028365325835"
      ]
     },
     "execution_count": 14,
     "metadata": {},
     "output_type": "execute_result"
    }
   ],
   "source": [
    "clf = DecisionTreeClassifier()\n",
    "clf.fit(X_train,y_train)\n",
    "clf.score(X_test,y_test)"
   ]
  },
  {
   "cell_type": "markdown",
   "id": "67dbf920",
   "metadata": {
    "papermill": {
     "duration": 0.009871,
     "end_time": "2023-09-01T06:59:55.072700",
     "exception": false,
     "start_time": "2023-09-01T06:59:55.062829",
     "status": "completed"
    },
    "tags": []
   },
   "source": [
    "# simple application test model"
   ]
  },
  {
   "cell_type": "code",
   "execution_count": 15,
   "id": "2c2a54cf",
   "metadata": {
    "execution": {
     "iopub.execute_input": "2023-09-01T06:59:55.094752Z",
     "iopub.status.busy": "2023-09-01T06:59:55.094332Z",
     "iopub.status.idle": "2023-09-01T07:00:17.514920Z",
     "shell.execute_reply": "2023-09-01T07:00:17.513409Z"
    },
    "papermill": {
     "duration": 22.4354,
     "end_time": "2023-09-01T07:00:17.518218",
     "exception": false,
     "start_time": "2023-09-01T06:59:55.082818",
     "status": "completed"
    },
    "tags": []
   },
   "outputs": [
    {
     "name": "stdout",
     "output_type": "stream",
     "text": [
      "Collecting gradio\r\n",
      "  Downloading gradio-3.41.2-py3-none-any.whl (20.1 MB)\r\n",
      "\u001b[2K     \u001b[90m━━━━━━━━━━━━━━━━━━━━━━━━━━━━━━━━━━━━━━━━\u001b[0m \u001b[32m20.1/20.1 MB\u001b[0m \u001b[31m47.7 MB/s\u001b[0m eta \u001b[36m0:00:00\u001b[0m\r\n",
      "\u001b[?25hRequirement already satisfied: aiofiles<24.0,>=22.0 in /opt/conda/lib/python3.10/site-packages (from gradio) (22.1.0)\r\n",
      "Requirement already satisfied: altair<6.0,>=4.2.0 in /opt/conda/lib/python3.10/site-packages (from gradio) (5.1.0)\r\n",
      "Requirement already satisfied: fastapi in /opt/conda/lib/python3.10/site-packages (from gradio) (0.98.0)\r\n",
      "Collecting ffmpy (from gradio)\r\n",
      "  Downloading ffmpy-0.3.1.tar.gz (5.5 kB)\r\n",
      "  Preparing metadata (setup.py) ... \u001b[?25ldone\r\n",
      "\u001b[?25hCollecting gradio-client==0.5.0 (from gradio)\r\n",
      "  Downloading gradio_client-0.5.0-py3-none-any.whl (298 kB)\r\n",
      "\u001b[2K     \u001b[90m━━━━━━━━━━━━━━━━━━━━━━━━━━━━━━━━━━━━━━\u001b[0m \u001b[32m298.2/298.2 kB\u001b[0m \u001b[31m24.1 MB/s\u001b[0m eta \u001b[36m0:00:00\u001b[0m\r\n",
      "\u001b[?25hCollecting httpx (from gradio)\r\n",
      "  Downloading httpx-0.24.1-py3-none-any.whl (75 kB)\r\n",
      "\u001b[2K     \u001b[90m━━━━━━━━━━━━━━━━━━━━━━━━━━━━━━━━━━━━━━━━\u001b[0m \u001b[32m75.4/75.4 kB\u001b[0m \u001b[31m6.7 MB/s\u001b[0m eta \u001b[36m0:00:00\u001b[0m\r\n",
      "\u001b[?25hRequirement already satisfied: huggingface-hub>=0.14.0 in /opt/conda/lib/python3.10/site-packages (from gradio) (0.16.4)\r\n",
      "Requirement already satisfied: importlib-resources<7.0,>=1.3 in /opt/conda/lib/python3.10/site-packages (from gradio) (5.12.0)\r\n",
      "Requirement already satisfied: jinja2<4.0 in /opt/conda/lib/python3.10/site-packages (from gradio) (3.1.2)\r\n",
      "Requirement already satisfied: markupsafe~=2.0 in /opt/conda/lib/python3.10/site-packages (from gradio) (2.1.3)\r\n",
      "Requirement already satisfied: matplotlib~=3.0 in /opt/conda/lib/python3.10/site-packages (from gradio) (3.7.2)\r\n",
      "Requirement already satisfied: numpy~=1.0 in /opt/conda/lib/python3.10/site-packages (from gradio) (1.23.5)\r\n",
      "Requirement already satisfied: orjson~=3.0 in /opt/conda/lib/python3.10/site-packages (from gradio) (3.9.1)\r\n",
      "Requirement already satisfied: packaging in /opt/conda/lib/python3.10/site-packages (from gradio) (21.3)\r\n",
      "Requirement already satisfied: pandas<3.0,>=1.0 in /opt/conda/lib/python3.10/site-packages (from gradio) (2.0.3)\r\n",
      "Requirement already satisfied: pillow<11.0,>=8.0 in /opt/conda/lib/python3.10/site-packages (from gradio) (9.5.0)\r\n",
      "Requirement already satisfied: pydantic!=1.8,!=1.8.1,!=2.0.0,!=2.0.1,<3.0.0,>=1.7.4 in /opt/conda/lib/python3.10/site-packages (from gradio) (1.10.9)\r\n",
      "Requirement already satisfied: pydub in /opt/conda/lib/python3.10/site-packages (from gradio) (0.25.1)\r\n",
      "Collecting python-multipart (from gradio)\r\n",
      "  Downloading python_multipart-0.0.6-py3-none-any.whl (45 kB)\r\n",
      "\u001b[2K     \u001b[90m━━━━━━━━━━━━━━━━━━━━━━━━━━━━━━━━━━━━━━━━\u001b[0m \u001b[32m45.7/45.7 kB\u001b[0m \u001b[31m3.2 MB/s\u001b[0m eta \u001b[36m0:00:00\u001b[0m\r\n",
      "\u001b[?25hRequirement already satisfied: pyyaml<7.0,>=5.0 in /opt/conda/lib/python3.10/site-packages (from gradio) (6.0)\r\n",
      "Requirement already satisfied: requests~=2.0 in /opt/conda/lib/python3.10/site-packages (from gradio) (2.31.0)\r\n",
      "Collecting semantic-version~=2.0 (from gradio)\r\n",
      "  Downloading semantic_version-2.10.0-py2.py3-none-any.whl (15 kB)\r\n",
      "Requirement already satisfied: typing-extensions~=4.0 in /opt/conda/lib/python3.10/site-packages (from gradio) (4.6.3)\r\n",
      "Requirement already satisfied: uvicorn>=0.14.0 in /opt/conda/lib/python3.10/site-packages (from gradio) (0.22.0)\r\n",
      "Requirement already satisfied: websockets<12.0,>=10.0 in /opt/conda/lib/python3.10/site-packages (from gradio) (11.0.3)\r\n",
      "Requirement already satisfied: fsspec in /opt/conda/lib/python3.10/site-packages (from gradio-client==0.5.0->gradio) (2023.6.0)\r\n",
      "Requirement already satisfied: jsonschema>=3.0 in /opt/conda/lib/python3.10/site-packages (from altair<6.0,>=4.2.0->gradio) (4.17.3)\r\n",
      "Requirement already satisfied: toolz in /opt/conda/lib/python3.10/site-packages (from altair<6.0,>=4.2.0->gradio) (0.12.0)\r\n",
      "Requirement already satisfied: filelock in /opt/conda/lib/python3.10/site-packages (from huggingface-hub>=0.14.0->gradio) (3.12.2)\r\n",
      "Requirement already satisfied: tqdm>=4.42.1 in /opt/conda/lib/python3.10/site-packages (from huggingface-hub>=0.14.0->gradio) (4.66.1)\r\n",
      "Requirement already satisfied: contourpy>=1.0.1 in /opt/conda/lib/python3.10/site-packages (from matplotlib~=3.0->gradio) (1.1.0)\r\n",
      "Requirement already satisfied: cycler>=0.10 in /opt/conda/lib/python3.10/site-packages (from matplotlib~=3.0->gradio) (0.11.0)\r\n",
      "Requirement already satisfied: fonttools>=4.22.0 in /opt/conda/lib/python3.10/site-packages (from matplotlib~=3.0->gradio) (4.40.0)\r\n",
      "Requirement already satisfied: kiwisolver>=1.0.1 in /opt/conda/lib/python3.10/site-packages (from matplotlib~=3.0->gradio) (1.4.4)\r\n",
      "Requirement already satisfied: pyparsing<3.1,>=2.3.1 in /opt/conda/lib/python3.10/site-packages (from matplotlib~=3.0->gradio) (3.0.9)\r\n",
      "Requirement already satisfied: python-dateutil>=2.7 in /opt/conda/lib/python3.10/site-packages (from matplotlib~=3.0->gradio) (2.8.2)\r\n",
      "Requirement already satisfied: pytz>=2020.1 in /opt/conda/lib/python3.10/site-packages (from pandas<3.0,>=1.0->gradio) (2023.3)\r\n",
      "Requirement already satisfied: tzdata>=2022.1 in /opt/conda/lib/python3.10/site-packages (from pandas<3.0,>=1.0->gradio) (2023.3)\r\n",
      "Requirement already satisfied: charset-normalizer<4,>=2 in /opt/conda/lib/python3.10/site-packages (from requests~=2.0->gradio) (3.1.0)\r\n",
      "Requirement already satisfied: idna<4,>=2.5 in /opt/conda/lib/python3.10/site-packages (from requests~=2.0->gradio) (3.4)\r\n",
      "Requirement already satisfied: urllib3<3,>=1.21.1 in /opt/conda/lib/python3.10/site-packages (from requests~=2.0->gradio) (1.26.15)\r\n",
      "Requirement already satisfied: certifi>=2017.4.17 in /opt/conda/lib/python3.10/site-packages (from requests~=2.0->gradio) (2023.7.22)\r\n",
      "Requirement already satisfied: click>=7.0 in /opt/conda/lib/python3.10/site-packages (from uvicorn>=0.14.0->gradio) (8.1.7)\r\n",
      "Requirement already satisfied: h11>=0.8 in /opt/conda/lib/python3.10/site-packages (from uvicorn>=0.14.0->gradio) (0.14.0)\r\n",
      "Requirement already satisfied: starlette<0.28.0,>=0.27.0 in /opt/conda/lib/python3.10/site-packages (from fastapi->gradio) (0.27.0)\r\n",
      "Collecting httpcore<0.18.0,>=0.15.0 (from httpx->gradio)\r\n",
      "  Downloading httpcore-0.17.3-py3-none-any.whl (74 kB)\r\n",
      "\u001b[2K     \u001b[90m━━━━━━━━━━━━━━━━━━━━━━━━━━━━━━━━━━━━━━━━\u001b[0m \u001b[32m74.5/74.5 kB\u001b[0m \u001b[31m6.5 MB/s\u001b[0m eta \u001b[36m0:00:00\u001b[0m\r\n",
      "\u001b[?25hRequirement already satisfied: sniffio in /opt/conda/lib/python3.10/site-packages (from httpx->gradio) (1.3.0)\r\n",
      "Requirement already satisfied: anyio<5.0,>=3.0 in /opt/conda/lib/python3.10/site-packages (from httpcore<0.18.0,>=0.15.0->httpx->gradio) (3.7.0)\r\n",
      "Requirement already satisfied: attrs>=17.4.0 in /opt/conda/lib/python3.10/site-packages (from jsonschema>=3.0->altair<6.0,>=4.2.0->gradio) (23.1.0)\r\n",
      "Requirement already satisfied: pyrsistent!=0.17.0,!=0.17.1,!=0.17.2,>=0.14.0 in /opt/conda/lib/python3.10/site-packages (from jsonschema>=3.0->altair<6.0,>=4.2.0->gradio) (0.19.3)\r\n",
      "Requirement already satisfied: six>=1.5 in /opt/conda/lib/python3.10/site-packages (from python-dateutil>=2.7->matplotlib~=3.0->gradio) (1.16.0)\r\n",
      "Requirement already satisfied: exceptiongroup in /opt/conda/lib/python3.10/site-packages (from anyio<5.0,>=3.0->httpcore<0.18.0,>=0.15.0->httpx->gradio) (1.1.1)\r\n",
      "Building wheels for collected packages: ffmpy\r\n",
      "  Building wheel for ffmpy (setup.py) ... \u001b[?25l-\b \bdone\r\n",
      "\u001b[?25h  Created wheel for ffmpy: filename=ffmpy-0.3.1-py3-none-any.whl size=5579 sha256=20d7ea21acada0ae704de1e1163d8e24200bf3ff1551c7cf02aa4333e20b87d5\r\n",
      "  Stored in directory: /root/.cache/pip/wheels/01/a6/d1/1c0828c304a4283b2c1639a09ad86f83d7c487ef34c6b4a1bf\r\n",
      "Successfully built ffmpy\r\n",
      "Installing collected packages: ffmpy, semantic-version, python-multipart, httpcore, httpx, gradio-client, gradio\r\n",
      "Successfully installed ffmpy-0.3.1 gradio-3.41.2 gradio-client-0.5.0 httpcore-0.17.3 httpx-0.24.1 python-multipart-0.0.6 semantic-version-2.10.0\r\n"
     ]
    }
   ],
   "source": [
    "!pip install gradio"
   ]
  },
  {
   "cell_type": "code",
   "execution_count": 16,
   "id": "72d1fa44",
   "metadata": {
    "execution": {
     "iopub.execute_input": "2023-09-01T07:00:17.549777Z",
     "iopub.status.busy": "2023-09-01T07:00:17.549343Z",
     "iopub.status.idle": "2023-09-01T07:00:20.501339Z",
     "shell.execute_reply": "2023-09-01T07:00:20.500314Z"
    },
    "papermill": {
     "duration": 2.970788,
     "end_time": "2023-09-01T07:00:20.504046",
     "exception": false,
     "start_time": "2023-09-01T07:00:17.533258",
     "status": "completed"
    },
    "tags": []
   },
   "outputs": [],
   "source": [
    "import gradio as gr\n",
    "\n",
    "import pandas as pd"
   ]
  },
  {
   "cell_type": "code",
   "execution_count": 17,
   "id": "27af95ca",
   "metadata": {
    "execution": {
     "iopub.execute_input": "2023-09-01T07:00:20.535373Z",
     "iopub.status.busy": "2023-09-01T07:00:20.534414Z",
     "iopub.status.idle": "2023-09-01T07:00:26.887644Z",
     "shell.execute_reply": "2023-09-01T07:00:26.886767Z"
    },
    "papermill": {
     "duration": 6.371595,
     "end_time": "2023-09-01T07:00:26.890282",
     "exception": false,
     "start_time": "2023-09-01T07:00:20.518687",
     "status": "completed"
    },
    "tags": []
   },
   "outputs": [
    {
     "name": "stdout",
     "output_type": "stream",
     "text": [
      "Running on local URL:  http://127.0.0.1:7860\n",
      "Kaggle notebooks require sharing enabled. Setting `share=True` (you can turn this off by setting `share=False` in `launch()` explicitly).\n",
      "\n",
      "Running on public URL: https://cb5addd4496a86e133.gradio.live\n",
      "\n",
      "This share link expires in 72 hours. For free permanent hosting and GPU upgrades, run `gradio deploy` from Terminal to deploy to Spaces (https://huggingface.co/spaces)\n"
     ]
    },
    {
     "data": {
      "text/html": [
       "<div><iframe src=\"https://cb5addd4496a86e133.gradio.live\" width=\"100%\" height=\"500\" allow=\"autoplay; camera; microphone; clipboard-read; clipboard-write;\" frameborder=\"0\" allowfullscreen></iframe></div>"
      ],
      "text/plain": [
       "<IPython.core.display.HTML object>"
      ]
     },
     "metadata": {},
     "output_type": "display_data"
    }
   ],
   "source": [
    "import gradio as gr\n",
    "\n",
    "def tweetdata(user):\n",
    "    sample = user\n",
    "    data = cv.transform([sample]).toarray()\n",
    "    a = clf.predict(data)\n",
    "    return a\n",
    "\n",
    "demo = gr.Interface(fn=tweetdata, inputs=\"text\", outputs=\"text\")\n",
    "    \n",
    "if __name__ == \"__main__\":\n",
    "    demo.launch()"
   ]
  }
 ],
 "kernelspec": {
  "display_name": "Python 3",
  "language": "python",
  "name": "python3"
 },
 "language_info": {
  "codemirror_mode": {
   "name": "ipython",
   "version": 3
  },
  "file_extension": ".py",
  "mimetype": "text/x-python",
  "name": "python",
  "nbconvert_exporter": "python",
  "pygments_lexer": "ipython3",
  "version": "3.6.4"
 },
 "metadata": {
  "kernelspec": {
   "display_name": "Python 3",
   "language": "python",
   "name": "python3"
  },
  "language_info": {
   "codemirror_mode": {
    "name": "ipython",
    "version": 3
   },
   "file_extension": ".py",
   "mimetype": "text/x-python",
   "name": "python",
   "nbconvert_exporter": "python",
   "pygments_lexer": "ipython3",
   "version": "3.10.12"
  },
  "papermill": {
   "default_parameters": {},
   "duration": 51.791606,
   "end_time": "2023-09-01T07:00:28.530859",
   "environment_variables": {},
   "exception": null,
   "input_path": "__notebook__.ipynb",
   "output_path": "__notebook__.ipynb",
   "parameters": {},
   "start_time": "2023-09-01T06:59:36.739253",
   "version": "2.4.0"
  }
 },
 "nbformat": 4,
 "nbformat_minor": 5
}
